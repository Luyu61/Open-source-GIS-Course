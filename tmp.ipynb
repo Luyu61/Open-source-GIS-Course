{
 "cells": [
  {
   "cell_type": "code",
   "execution_count": 5,
   "metadata": {},
   "outputs": [],
   "source": [
    "from pyrsimg import readTiff, writeTiff\n"
   ]
  },
  {
   "cell_type": "code",
   "execution_count": 6,
   "metadata": {},
   "outputs": [],
   "source": [
    "path_rsimg = 'data/Section-2/s2_chenggong_20200411_6bands_20m.tif'\n"
   ]
  },
  {
   "cell_type": "code",
   "execution_count": 7,
   "metadata": {},
   "outputs": [],
   "source": [
    "img = readTiff(path_in=path_rsimg)\n"
   ]
  },
  {
   "cell_type": "code",
   "execution_count": 12,
   "metadata": {},
   "outputs": [
    {
     "name": "stdout",
     "output_type": "stream",
     "text": [
      "(1630, 1490, 6)\n",
      "32647\n",
      "(874420.0, 20.0, 0.0, 2769600.0, 0.0, -20.0)\n",
      "(874420.0, 904220.0, 2737000.0, 2769600.0)\n"
     ]
    }
   ],
   "source": [
    "print(img.array.shape)\n",
    "print(img.epsg_code)\n",
    "print(img.geotrans)\n",
    "print(img.geoextent)"
   ]
  },
  {
   "cell_type": "code",
   "execution_count": 13,
   "metadata": {},
   "outputs": [],
   "source": [
    "# writeTiff(im_data=?, im_geosrs=?, im_geotrans=?, path_out=?)\n",
    "\n",
    "writeTiff(im_data=img.array, im_geosrs=img.epsg_code, im_geotrans=img.geotrans, path_out='aaa.tif')\n",
    "\n"
   ]
  }
 ],
 "metadata": {
  "kernelspec": {
   "display_name": "venv",
   "language": "python",
   "name": "python3"
  },
  "language_info": {
   "codemirror_mode": {
    "name": "ipython",
    "version": 3
   },
   "file_extension": ".py",
   "mimetype": "text/x-python",
   "name": "python",
   "nbconvert_exporter": "python",
   "pygments_lexer": "ipython3",
   "version": "3.9.18"
  }
 },
 "nbformat": 4,
 "nbformat_minor": 2
}
